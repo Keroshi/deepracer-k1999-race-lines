{
 "cells": [
  {
   "cell_type": "markdown",
   "metadata": {},
   "source": [
    "# INSTRUCTIONS\n",
    "\n",
    "#### Part 1: Computing the optimal speed from the optimal racing line\n",
    "- Part 1 of this notebook takes the optimal racing line, which can be generated with Race-Line-Calculation.ipynb ([GitHub](https://github.com/cdthompson/deepracer-k1999-race-lines)), and generates the optimal speed for each point on the racing line\n",
    "- Input: .py file with 2D array containing optimal racing line: 2 columns (x,y)\n",
    "- Output: .py file with 2D array: 4 columns (x,y,speed,expected time). This array can be inserted into the reward function\n",
    "- Note: The last point of the racing line is deleted because it is the same point as the first one\n",
    "\n",
    "#### Part 2: Computing the Action Space\n",
    "- Part 2 of this notebook takes the optimal racing line and speed, and uses K-Means with Gaussian Noise infused data, to calculate the action space"
   ]
  },
  {
   "cell_type": "code",
   "metadata": {
    "ExecuteTime": {
     "end_time": "2024-09-13T08:10:38.663319Z",
     "start_time": "2024-09-13T08:10:38.658697Z"
    }
   },
   "source": [
    "%matplotlib inline\n",
    "\n",
    "import numpy as np\n",
    "import pandas as pd\n",
    "from scipy import stats\n",
    "import math\n",
    "\n",
    "# Ignore deprecation warnings we have no power over\n",
    "import warnings\n",
    "\n",
    "warnings.filterwarnings('ignore')"
   ],
   "outputs": [],
   "execution_count": 96
  },
  {
   "cell_type": "code",
   "metadata": {
    "ExecuteTime": {
     "end_time": "2024-09-13T08:10:38.675421Z",
     "start_time": "2024-09-13T08:10:38.669896Z"
    }
   },
   "source": [
    "# Path of the optimal racing line (.npy file)\n",
    "fpath = \"./racelines/Austin-1000-4-2024-09-13-110627.npy\"\n",
    "\n",
    "# Change manually (this is only so that output files are named correctly)\n",
    "TRACK_NAME = \"Jennens\"\n",
    "\n",
    "racing_track = np.load(fpath)\n",
    "\n",
    "# Convert np array to list and remove last point because it is the same point as the first one\n",
    "racing_track = racing_track.tolist()[:-1]"
   ],
   "outputs": [],
   "execution_count": 97
  },
  {
   "cell_type": "markdown",
   "metadata": {},
   "source": [
    "# Helper functions for Part 1 and Part 2"
   ]
  },
  {
   "cell_type": "code",
   "metadata": {
    "ExecuteTime": {
     "end_time": "2024-09-13T08:10:38.719352Z",
     "start_time": "2024-09-13T08:10:38.706485Z"
    }
   },
   "source": [
    "# Uses previous and next coords to calculate the radius of the curve\n",
    "# so you need to pass a list with form [[x1,y1],[x2,y2],[x3,y3]]\n",
    "# Input 3 coords [[x1,y1],[x2,y2],[x3,y3]]\n",
    "def circle_radius(coords):\n",
    "    # Flatten the list and assign to variables (makes code easier to read later)\n",
    "    x1, y1, x2, y2, x3, y3 = [i for sub in coords for i in sub]\n",
    "\n",
    "    a = x1 * (y2 - y3) - y1 * (x2 - x3) + x2 * y3 - x3 * y2\n",
    "    b = (x1 ** 2 + y1 ** 2) * (y3 - y2) + (x2 ** 2 + y2 ** 2) * (y1 - y3) + (x3 ** 2 + y3 ** 2) * (y2 - y1)\n",
    "    c = (x1 ** 2 + y1 ** 2) * (x2 - x3) + (x2 ** 2 + y2 ** 2) * (x3 - x1) + (x3 ** 2 + y3 ** 2) * (x1 - x2)\n",
    "    d = (x1 ** 2 + y1 ** 2) * (x3 * y2 - x2 * y3) + (x2 ** 2 + y2 ** 2) * \\\n",
    "        (x1 * y3 - x3 * y1) + (x3 ** 2 + y3 ** 2) * (x2 * y1 - x1 * y2)\n",
    "\n",
    "    # In case a is zero (so radius is infinity)\n",
    "    try:\n",
    "        r = abs((b ** 2 + c ** 2 - 4 * a * d) / abs(4 * a ** 2)) ** 0.5\n",
    "    except:\n",
    "        r = 999\n",
    "\n",
    "    return r\n",
    "\n",
    "\n",
    "# Returns indexes of next index and index+lookfront\n",
    "# We need this to calculate the radius for next track section.\n",
    "def circle_indexes(mylist, index_car, add_index_1=0, add_index_2=0):\n",
    "    list_len = len(mylist)\n",
    "\n",
    "    # if index >= list_len:\n",
    "    #     raise ValueError(\"Index out of range in circle_indexes()\")\n",
    "\n",
    "    # Use modulo to consider that track is cyclical\n",
    "    index_1 = (index_car + add_index_1) % list_len\n",
    "    index_2 = (index_car + add_index_2) % list_len\n",
    "\n",
    "    return [index_car, index_1, index_2]\n",
    "\n",
    "\n",
    "def optimal_velocity(track, min_speed, max_speed, look_ahead_points):\n",
    "    # Calculate the radius for every point of the track\n",
    "    radius = []\n",
    "    for i in range(len(track)):\n",
    "        indexes = circle_indexes(track, i, add_index_1=-1, add_index_2=1)\n",
    "        coords = [track[indexes[0]],\n",
    "                  track[indexes[1]], track[indexes[2]]]\n",
    "        radius.append(circle_radius(coords))\n",
    "\n",
    "    # Get the max_velocity for the smallest radius\n",
    "    # That value should multiplied by a constant multiple\n",
    "    v_min_r = min(radius) ** 0.5\n",
    "    constant_multiple = min_speed / v_min_r\n",
    "    print(f\"Constant multiple for optimal speed: {constant_multiple}\")\n",
    "\n",
    "    if look_ahead_points == 0:\n",
    "        # Get the maximal velocity from radius\n",
    "        max_velocity = [(constant_multiple * i ** 0.5) for i in radius]\n",
    "        # Get velocity from max_velocity (cap at MAX_SPEED)\n",
    "        velocity = [min(v, max_speed) for v in max_velocity]\n",
    "        return velocity\n",
    "\n",
    "    else:\n",
    "        # Looks at the next n radii of points and takes the minimum\n",
    "        # goal: reduce lookahead until car crashes bc no time to break\n",
    "        LOOK_AHEAD_POINTS = look_ahead_points\n",
    "        radius_lookahead = []\n",
    "        for i in range(len(radius)):\n",
    "            next_n_radius = []\n",
    "            for j in range(LOOK_AHEAD_POINTS + 1):\n",
    "                index = circle_indexes(\n",
    "                    mylist=radius, index_car=i, add_index_1=j)[1]\n",
    "                next_n_radius.append(radius[index])\n",
    "            radius_lookahead.append(min(next_n_radius))\n",
    "        max_velocity_lookahead = [(constant_multiple * i ** 0.5)\n",
    "                                  for i in radius_lookahead]\n",
    "        velocity_lookahead = [min(v, max_speed)\n",
    "                              for v in max_velocity_lookahead]\n",
    "        return velocity_lookahead\n",
    "\n",
    "\n",
    "# For each point in racing track, check if left curve (returns boolean)\n",
    "def is_left_curve(coords):\n",
    "    # Flatten the list and assign to variables (makes code easier to read later)\n",
    "    x1, y1, x2, y2, x3, y3 = [i for sub in coords for i in sub]\n",
    "\n",
    "    return ((x2 - x1) * (y3 - y1) - (y2 - y1) * (x3 - x1)) > 0\n",
    "\n",
    "\n",
    "# Calculate the distance between 2 points\n",
    "def dist_2_points(x1, x2, y1, y2):\n",
    "    return abs(abs(x1 - x2) ** 2 + abs(y1 - y2) ** 2) ** 0.5"
   ],
   "outputs": [],
   "execution_count": 98
  },
  {
   "cell_type": "markdown",
   "metadata": {},
   "source": [
    "# Part 1: Calculate optimal speed\n",
    "\n",
    "- Change ```LOOK_AHEAD_POINTS``` to influence how many points the algorithm looks ahead (the higher, the sooner the car will start to break)\n",
    "- Change ```MIN_SPEED``` and ```MAX_SPEED``` to fit the track and model !"
   ]
  },
  {
   "cell_type": "code",
   "metadata": {
    "ExecuteTime": {
     "end_time": "2024-09-13T08:10:38.760233Z",
     "start_time": "2024-09-13T08:10:38.753350Z"
    }
   },
   "source": [
    "LOOK_AHEAD_POINTS = 5\n",
    "MIN_SPEED = 1.5\n",
    "MAX_SPEED = 4.0\n",
    "\n",
    "# Calculate optimal speed\n",
    "velocity = optimal_velocity(track=racing_track,\n",
    "                            min_speed=MIN_SPEED, max_speed=MAX_SPEED, look_ahead_points=LOOK_AHEAD_POINTS)"
   ],
   "outputs": [
    {
     "name": "stdout",
     "output_type": "stream",
     "text": [
      "Constant multiple for optimal speed: 2.018499955962109\n"
     ]
    }
   ],
   "execution_count": 99
  },
  {
   "cell_type": "markdown",
   "metadata": {},
   "source": [
    "#### Visualization"
   ]
  },
  {
   "cell_type": "code",
   "metadata": {
    "ExecuteTime": {
     "end_time": "2024-09-13T08:10:39.073302Z",
     "start_time": "2024-09-13T08:10:38.795066Z"
    }
   },
   "source": [
    "from matplotlib import pyplot as plt\n",
    "import seaborn as sns\n",
    "\n",
    "x = [i[0] for i in racing_track]\n",
    "y = [i[1] for i in racing_track]\n",
    "\n",
    "# Without lookahead\n",
    "velocity_no_lookahead = optimal_velocity(track=racing_track,\n",
    "                                         min_speed=MIN_SPEED, max_speed=MAX_SPEED, look_ahead_points=0)\n",
    "\n",
    "fig, ax = plt.subplots(figsize=(8, 5))\n",
    "ax = sns.scatterplot(x=x, y=y, hue=velocity_no_lookahead,\n",
    "                     palette=\"vlag\").set_title(\"Without lookahead\")\n",
    "\n",
    "fig, ax = plt.subplots(figsize=(8, 5))\n",
    "ax = sns.scatterplot(x=x, y=y, hue=velocity, palette=\"vlag\").set_title(\n",
    "    f\"With lookahead: {LOOK_AHEAD_POINTS}\")"
   ],
   "outputs": [
    {
     "name": "stdout",
     "output_type": "stream",
     "text": [
      "Constant multiple for optimal speed: 2.018499955962109\n"
     ]
    }
   ],
   "execution_count": 100
  },
  {
   "cell_type": "markdown",
   "metadata": {},
   "source": [
    "#### Calculate distance and optimal time between each racing point"
   ]
  },
  {
   "cell_type": "code",
   "metadata": {
    "ExecuteTime": {
     "end_time": "2024-09-13T08:10:39.111869Z",
     "start_time": "2024-09-13T08:10:39.104090Z"
    }
   },
   "source": [
    "distance_to_prev = []\n",
    "for i in range(len(racing_track)):\n",
    "    indexes = circle_indexes(racing_track, i, add_index_1=-1, add_index_2=0)[0:2]\n",
    "    coords = [racing_track[indexes[0]], racing_track[indexes[1]]]\n",
    "    dist_to_prev = dist_2_points(x1=coords[0][0], x2=coords[1][0], y1=coords[0][1], y2=coords[1][1])\n",
    "    distance_to_prev.append(dist_to_prev)\n",
    "\n",
    "time_to_prev = [(distance_to_prev[i] / velocity[i]) for i in range(len(racing_track))]\n",
    "\n",
    "total_time = sum(time_to_prev)\n",
    "print(f\"Total time for track, if racing line and speeds are followed perfectly: {total_time} s\")"
   ],
   "outputs": [
    {
     "name": "stdout",
     "output_type": "stream",
     "text": [
      "Total time for track, if racing line and speeds are followed perfectly: 16.70462102786978 s\n"
     ]
    }
   ],
   "execution_count": 101
  },
  {
   "cell_type": "markdown",
   "metadata": {},
   "source": [
    "## Append everything together and save to .txt file"
   ]
  },
  {
   "cell_type": "code",
   "metadata": {
    "ExecuteTime": {
     "end_time": "2024-09-13T08:10:39.147282Z",
     "start_time": "2024-09-13T08:10:39.142802Z"
    }
   },
   "source": [
    "# Now we have list with columns (x,y,speed,distance,time)\n",
    "racing_track_everything = []\n",
    "for i in range(len(racing_track)):\n",
    "    racing_track_everything.append([racing_track[i][0],\n",
    "                                    racing_track[i][1],\n",
    "                                    velocity[i],\n",
    "                                    time_to_prev[i]])\n",
    "# Round to 5 decimals\n",
    "racing_track_everything = np.around(racing_track_everything, 5).tolist()"
   ],
   "outputs": [],
   "execution_count": 102
  },
  {
   "cell_type": "code",
   "metadata": {
    "ExecuteTime": {
     "end_time": "2024-09-13T08:10:39.184452Z",
     "start_time": "2024-09-13T08:10:39.177858Z"
    }
   },
   "source": [
    "# Write to txt file\n",
    "with open(f'optimals_newest_{TRACK_NAME}.txt', 'w') as f:\n",
    "    f.write(\"[\")\n",
    "    for line in racing_track_everything:\n",
    "        f.write(\"%s\" % line)\n",
    "        if line != racing_track_everything[-1]:\n",
    "            f.write(\",\\n\")\n",
    "    f.write(\"]\")"
   ],
   "outputs": [],
   "execution_count": 103
  },
  {
   "cell_type": "markdown",
   "metadata": {},
   "source": [
    "# Part 2: Calculate Optimal Action Space"
   ]
  },
  {
   "cell_type": "code",
   "metadata": {
    "ExecuteTime": {
     "end_time": "2024-09-13T08:10:39.233570Z",
     "start_time": "2024-09-13T08:10:39.223124Z"
    }
   },
   "source": [
    "# Calculate the radius for every point of the racing_track\n",
    "radius = []\n",
    "for i in range(len(racing_track)):\n",
    "    indexes = circle_indexes(racing_track, i, add_index_1=-1, add_index_2=1)  # CHANGE BACK? 1;2\n",
    "    coords = [racing_track[indexes[0]],\n",
    "              racing_track[indexes[1]], racing_track[indexes[2]]]\n",
    "    radius.append(circle_radius(coords))\n",
    "\n",
    "# Calculate curve direction\n",
    "left_curve = []\n",
    "for i in range(len(racing_track)):\n",
    "    indexes = circle_indexes(racing_track, i, add_index_1=-1, add_index_2=1)\n",
    "    coords = [racing_track[indexes[1]],\n",
    "              racing_track[indexes[0]], racing_track[indexes[2]]]\n",
    "    left_curve.append(is_left_curve(coords))\n",
    "\n",
    "# Calculate radius with + and - for direction (+ is left, - is right)\n",
    "radius_direction = []\n",
    "for i in range(len(racing_track)):\n",
    "    radius_with_direction = radius[i]\n",
    "    if left_curve[i] == False:\n",
    "        radius_with_direction *= -1\n",
    "    radius_direction.append(radius_with_direction)\n",
    "\n",
    "# Calculate steering with + and -\n",
    "dist_wheels_front_back = 0.165  # meters\n",
    "steering = []\n",
    "for i in range(len(racing_track)):\n",
    "    steer = math.degrees(math.asin(dist_wheels_front_back / radius_direction[i]))\n",
    "    steering.append(steer)\n",
    "\n",
    "# Merge relevant lists into dataframe\n",
    "all_actions = pd.DataFrame({\"velocity\": velocity,\n",
    "                            \"steering\": steering})"
   ],
   "outputs": [],
   "execution_count": 104
  },
  {
   "cell_type": "code",
   "metadata": {
    "ExecuteTime": {
     "end_time": "2024-09-13T08:10:39.273228Z",
     "start_time": "2024-09-13T08:10:39.268738Z"
    }
   },
   "source": [
    "min(radius)"
   ],
   "outputs": [
    {
     "data": {
      "text/plain": [
       "0.5522364004096906"
      ]
     },
     "execution_count": 105,
     "metadata": {},
     "output_type": "execute_result"
    }
   ],
   "execution_count": 105
  },
  {
   "cell_type": "code",
   "metadata": {
    "ExecuteTime": {
     "end_time": "2024-09-13T08:10:39.399209Z",
     "start_time": "2024-09-13T08:10:39.306168Z"
    }
   },
   "source": [
    "# Visualize action space\n",
    "ax = sns.scatterplot(data=all_actions, x=\"steering\", y=\"velocity\")\n",
    "ax.invert_xaxis()\n",
    "ax.set_title(f\"With lookahead: {LOOK_AHEAD_POINTS}\")"
   ],
   "outputs": [
    {
     "data": {
      "text/plain": [
       "Text(0.5, 1.0, 'With lookahead: 5')"
      ]
     },
     "execution_count": 106,
     "metadata": {},
     "output_type": "execute_result"
    }
   ],
   "execution_count": 106
  },
  {
   "cell_type": "code",
   "metadata": {
    "ExecuteTime": {
     "end_time": "2024-09-13T08:10:39.543999Z",
     "start_time": "2024-09-13T08:10:39.431851Z"
    }
   },
   "source": [
    "# Visualize all actions\n",
    "plt.figure(figsize=(10, 5))\n",
    "sns.lineplot(data=all_actions[\"velocity\"], color=\"r\")\n",
    "ax2 = plt.twinx()\n",
    "sns.lineplot(data=all_actions[\"steering\"], color=\"g\", ax=ax2)\n",
    "plt.axhline(0, ls='--', color=\"g\")\n",
    "a = plt.title(\"Speed (red), Steering (green; positive=left)\")"
   ],
   "outputs": [],
   "execution_count": 107
  },
  {
   "cell_type": "markdown",
   "metadata": {},
   "source": [
    "#### Calculate Action Space with K-Means and Resampling each point with normal distribution"
   ]
  },
  {
   "cell_type": "code",
   "metadata": {
    "ExecuteTime": {
     "end_time": "2024-09-13T08:10:39.752071Z",
     "start_time": "2024-09-13T08:10:39.572260Z"
    }
   },
   "source": [
    "# Steering: Find standard deviation so that probability of >10 degrees steering is 5%\n",
    "steering_sd = -15 / stats.norm.ppf(0.05)\n",
    "steering_sd\n",
    "sns.distplot(np.random.normal(0, steering_sd, 10000))"
   ],
   "outputs": [
    {
     "data": {
      "text/plain": [
       "<Axes: title={'center': 'Speed (red), Steering (green; positive=left)'}, ylabel='steering'>"
      ]
     },
     "execution_count": 108,
     "metadata": {},
     "output_type": "execute_result"
    }
   ],
   "execution_count": 108
  },
  {
   "cell_type": "code",
   "metadata": {
    "ExecuteTime": {
     "end_time": "2024-09-13T08:10:39.897997Z",
     "start_time": "2024-09-13T08:10:39.786250Z"
    }
   },
   "source": [
    "# Velocity: Find standard deviation so that probability of >0.25m/s deviation is 0%\n",
    "# Note: Here, probability is set to 0%, so no noise regarding velocity\n",
    "velocity_sd = -0.25 / stats.norm.ppf(0.00)\n",
    "velocity_sd\n",
    "sns.distplot(np.random.normal(0, velocity_sd, 10000))"
   ],
   "outputs": [
    {
     "data": {
      "text/plain": [
       "<Axes: title={'center': 'Speed (red), Steering (green; positive=left)'}, ylabel='steering'>"
      ]
     },
     "execution_count": 109,
     "metadata": {},
     "output_type": "execute_result"
    }
   ],
   "execution_count": 109
  },
  {
   "cell_type": "code",
   "metadata": {
    "ExecuteTime": {
     "end_time": "2024-09-13T08:10:40.093684Z",
     "start_time": "2024-09-13T08:10:39.924199Z"
    }
   },
   "source": [
    "all_actions_norm = all_actions.copy()\n",
    "\n",
    "all_actions_norm_len = len(all_actions_norm)\n",
    "resample_size = 1000\n",
    "\n",
    "# Add gaussian noise to action space\n",
    "for i in range(all_actions_norm_len):\n",
    "    v_true = all_actions_norm.iloc[i][\"velocity\"]\n",
    "    s_true = all_actions_norm.iloc[i][\"steering\"]\n",
    "    v_norm = np.random.normal(loc=v_true, scale=velocity_sd, size=resample_size)\n",
    "    s_norm = np.random.normal(loc=s_true, scale=steering_sd, size=resample_size)\n",
    "    vs_norm = pd.DataFrame(np.column_stack([v_norm, s_norm]), columns=[\"velocity\", \"steering\"])\n",
    "    all_actions_norm = pd.concat([all_actions_norm, vs_norm], axis=0, ignore_index=True)\n",
    "\n",
    "# Take out actions with max speed, so that they are not affected by gaussian noise\n",
    "# We do this because there are disproportionally many points with max speed, so \n",
    "# K-Means will focus too much on these\n",
    "all_actions_norm = all_actions_norm[all_actions_norm[\"velocity\"] < MAX_SPEED]\n",
    "\n",
    "# Add initial actions to action space (to make clustering more focused on initial actions)\n",
    "add_n_initial_actions = int(resample_size / 8)\n",
    "add_initial_actions = pd.DataFrame()\n",
    "for i in range(add_n_initial_actions):\n",
    "    add_initial_actions = pd.concat([add_initial_actions, all_actions], axis=0, ignore_index=True)\n",
    "all_actions_norm = pd.concat([all_actions_norm, add_initial_actions], axis=0, ignore_index=True)\n",
    "\n",
    "# Display actions shape\n",
    "all_actions_norm.shape"
   ],
   "outputs": [
    {
     "data": {
      "text/plain": [
       "(154001, 2)"
      ]
     },
     "execution_count": 110,
     "metadata": {},
     "output_type": "execute_result"
    }
   ],
   "execution_count": 110
  },
  {
   "cell_type": "code",
   "metadata": {
    "ExecuteTime": {
     "end_time": "2024-09-13T08:10:40.885510Z",
     "start_time": "2024-09-13T08:10:40.123765Z"
    }
   },
   "source": [
    "all_actions_norm_less = all_actions_norm.sample(frac=0.01).reset_index(drop=True)  # sample bc less compute time\n",
    "ax = sns.kdeplot(x=all_actions_norm_less[\"steering\"], y=all_actions_norm_less[\"velocity\"])\n",
    "ax.invert_xaxis()"
   ],
   "outputs": [],
   "execution_count": 111
  },
  {
   "cell_type": "code",
   "metadata": {
    "ExecuteTime": {
     "end_time": "2024-09-13T08:10:41.027860Z",
     "start_time": "2024-09-13T08:10:40.912849Z"
    }
   },
   "source": [
    "X = all_actions_norm\n",
    "\n",
    "# Calculate action space with KMeans\n",
    "\n",
    "from sklearn.preprocessing import MinMaxScaler\n",
    "from sklearn.cluster import MiniBatchKMeans\n",
    "\n",
    "# Rescale data with minmax\n",
    "minmax_scaler = MinMaxScaler()\n",
    "X_minmax = pd.DataFrame(minmax_scaler.fit_transform(X),\n",
    "                        columns=[\"velocity\", \"steering\"])\n",
    "\n",
    "# KMeans\n",
    "# remove 2 actions from KMeans so that low speed & high steering actions can be manually included\n",
    "n_clusters = 21 - 2\n",
    "model = MiniBatchKMeans(n_clusters=n_clusters).fit(X_minmax)\n",
    "\n",
    "# Centroids (interpretable)\n",
    "from sklearn.preprocessing import MinMaxScaler\n",
    "\n",
    "minmax_scaler = MinMaxScaler()\n",
    "X_minmax_fit = minmax_scaler.fit(X)\n",
    "X_centroids = pd.DataFrame(X_minmax_fit.inverse_transform(model.cluster_centers_),\n",
    "                           columns=[\"velocity\", \"steering\"])\n",
    "\n",
    "# Add 2 manual actions\n",
    "# Reason: When car starts new episode, it does not start on or direction of racing line, so \n",
    "# it cannot steer enough to get on racing line\n",
    "manual_actions = pd.DataFrame({\"velocity\": [MIN_SPEED, MIN_SPEED], \"steering\": [30, -30]})\n",
    "X_centroids = pd.concat([X_centroids, manual_actions], ignore_index=True)\n",
    "\n",
    "action_space_e = X_centroids.copy()"
   ],
   "outputs": [],
   "execution_count": 112
  },
  {
   "cell_type": "code",
   "metadata": {
    "ExecuteTime": {
     "end_time": "2024-09-13T08:10:41.182964Z",
     "start_time": "2024-09-13T08:10:41.068508Z"
    }
   },
   "source": [
    "ax = sns.scatterplot(data=all_actions, x=\"steering\", y=\"velocity\", alpha=.1)\n",
    "ax = sns.scatterplot(data=action_space_e, x=\"steering\", y=\"velocity\")\n",
    "ax.invert_xaxis()"
   ],
   "outputs": [],
   "execution_count": 113
  },
  {
   "cell_type": "markdown",
   "metadata": {},
   "source": "*Note: Action space can be different every time it is computed because of random resampling with gaussian noise and also because of the random seed with K-Means. Therefore, try out multiple iterations until you are happy with the result*"
  },
  {
   "cell_type": "markdown",
   "metadata": {},
   "source": [
    "#### Output as JSON format"
   ]
  },
  {
   "cell_type": "code",
   "metadata": {
    "ExecuteTime": {
     "end_time": "2024-09-13T08:10:41.234060Z",
     "start_time": "2024-09-13T08:10:41.220149Z"
    }
   },
   "source": [
    "# Output JSON format\n",
    "action_space_for_json = action_space_e[[\"steering\", \"velocity\"]].copy()\n",
    "\n",
    "action_space_for_json = action_space_for_json.round(4)\n",
    "action_space_for_json.columns = [\"steering_angle\", \"speed\"]\n",
    "action_space_for_json[\"index\"] = action_space_for_json.index\n",
    "json_text = action_space_for_json.to_json(orient=\"records\", lines=False)\n",
    "\n",
    "action_space_for_json"
   ],
   "outputs": [
    {
     "data": {
      "text/plain": [
       "    steering_angle   speed  index\n",
       "0           0.2089  1.7164      0\n",
       "1           0.8780  3.3455      1\n",
       "2          -0.9660  3.9627      2\n",
       "3          -6.5056  2.4154      3\n",
       "4          16.0244  2.1071      4\n",
       "5          -8.2097  2.0307      5\n",
       "6          10.7123  1.6517      6\n",
       "7         -10.8534  3.4254      7\n",
       "8           3.6250  2.0991      8\n",
       "9          13.8108  2.8410      9\n",
       "10          0.5629  2.7330     10\n",
       "11         19.6849  3.3291     11\n",
       "12          6.2646  3.7335     12\n",
       "13        -14.9873  1.8381     13\n",
       "14          0.8301  2.9975     14\n",
       "15          7.8245  2.4355     15\n",
       "16          9.6763  3.3425     16\n",
       "17        -13.3795  2.8078     17\n",
       "18         22.3116  1.6454     18\n",
       "19         30.0000  1.5000     19\n",
       "20        -30.0000  1.5000     20"
      ],
      "text/html": [
       "<div>\n",
       "<style scoped>\n",
       "    .dataframe tbody tr th:only-of-type {\n",
       "        vertical-align: middle;\n",
       "    }\n",
       "\n",
       "    .dataframe tbody tr th {\n",
       "        vertical-align: top;\n",
       "    }\n",
       "\n",
       "    .dataframe thead th {\n",
       "        text-align: right;\n",
       "    }\n",
       "</style>\n",
       "<table border=\"1\" class=\"dataframe\">\n",
       "  <thead>\n",
       "    <tr style=\"text-align: right;\">\n",
       "      <th></th>\n",
       "      <th>steering_angle</th>\n",
       "      <th>speed</th>\n",
       "      <th>index</th>\n",
       "    </tr>\n",
       "  </thead>\n",
       "  <tbody>\n",
       "    <tr>\n",
       "      <th>0</th>\n",
       "      <td>0.2089</td>\n",
       "      <td>1.7164</td>\n",
       "      <td>0</td>\n",
       "    </tr>\n",
       "    <tr>\n",
       "      <th>1</th>\n",
       "      <td>0.8780</td>\n",
       "      <td>3.3455</td>\n",
       "      <td>1</td>\n",
       "    </tr>\n",
       "    <tr>\n",
       "      <th>2</th>\n",
       "      <td>-0.9660</td>\n",
       "      <td>3.9627</td>\n",
       "      <td>2</td>\n",
       "    </tr>\n",
       "    <tr>\n",
       "      <th>3</th>\n",
       "      <td>-6.5056</td>\n",
       "      <td>2.4154</td>\n",
       "      <td>3</td>\n",
       "    </tr>\n",
       "    <tr>\n",
       "      <th>4</th>\n",
       "      <td>16.0244</td>\n",
       "      <td>2.1071</td>\n",
       "      <td>4</td>\n",
       "    </tr>\n",
       "    <tr>\n",
       "      <th>5</th>\n",
       "      <td>-8.2097</td>\n",
       "      <td>2.0307</td>\n",
       "      <td>5</td>\n",
       "    </tr>\n",
       "    <tr>\n",
       "      <th>6</th>\n",
       "      <td>10.7123</td>\n",
       "      <td>1.6517</td>\n",
       "      <td>6</td>\n",
       "    </tr>\n",
       "    <tr>\n",
       "      <th>7</th>\n",
       "      <td>-10.8534</td>\n",
       "      <td>3.4254</td>\n",
       "      <td>7</td>\n",
       "    </tr>\n",
       "    <tr>\n",
       "      <th>8</th>\n",
       "      <td>3.6250</td>\n",
       "      <td>2.0991</td>\n",
       "      <td>8</td>\n",
       "    </tr>\n",
       "    <tr>\n",
       "      <th>9</th>\n",
       "      <td>13.8108</td>\n",
       "      <td>2.8410</td>\n",
       "      <td>9</td>\n",
       "    </tr>\n",
       "    <tr>\n",
       "      <th>10</th>\n",
       "      <td>0.5629</td>\n",
       "      <td>2.7330</td>\n",
       "      <td>10</td>\n",
       "    </tr>\n",
       "    <tr>\n",
       "      <th>11</th>\n",
       "      <td>19.6849</td>\n",
       "      <td>3.3291</td>\n",
       "      <td>11</td>\n",
       "    </tr>\n",
       "    <tr>\n",
       "      <th>12</th>\n",
       "      <td>6.2646</td>\n",
       "      <td>3.7335</td>\n",
       "      <td>12</td>\n",
       "    </tr>\n",
       "    <tr>\n",
       "      <th>13</th>\n",
       "      <td>-14.9873</td>\n",
       "      <td>1.8381</td>\n",
       "      <td>13</td>\n",
       "    </tr>\n",
       "    <tr>\n",
       "      <th>14</th>\n",
       "      <td>0.8301</td>\n",
       "      <td>2.9975</td>\n",
       "      <td>14</td>\n",
       "    </tr>\n",
       "    <tr>\n",
       "      <th>15</th>\n",
       "      <td>7.8245</td>\n",
       "      <td>2.4355</td>\n",
       "      <td>15</td>\n",
       "    </tr>\n",
       "    <tr>\n",
       "      <th>16</th>\n",
       "      <td>9.6763</td>\n",
       "      <td>3.3425</td>\n",
       "      <td>16</td>\n",
       "    </tr>\n",
       "    <tr>\n",
       "      <th>17</th>\n",
       "      <td>-13.3795</td>\n",
       "      <td>2.8078</td>\n",
       "      <td>17</td>\n",
       "    </tr>\n",
       "    <tr>\n",
       "      <th>18</th>\n",
       "      <td>22.3116</td>\n",
       "      <td>1.6454</td>\n",
       "      <td>18</td>\n",
       "    </tr>\n",
       "    <tr>\n",
       "      <th>19</th>\n",
       "      <td>30.0000</td>\n",
       "      <td>1.5000</td>\n",
       "      <td>19</td>\n",
       "    </tr>\n",
       "    <tr>\n",
       "      <th>20</th>\n",
       "      <td>-30.0000</td>\n",
       "      <td>1.5000</td>\n",
       "      <td>20</td>\n",
       "    </tr>\n",
       "  </tbody>\n",
       "</table>\n",
       "</div>"
      ]
     },
     "execution_count": 114,
     "metadata": {},
     "output_type": "execute_result"
    }
   ],
   "execution_count": 114
  },
  {
   "cell_type": "code",
   "metadata": {
    "ExecuteTime": {
     "end_time": "2024-09-13T08:10:41.305424Z",
     "start_time": "2024-09-13T08:10:41.299829Z"
    }
   },
   "source": [
    "with open(f'AS21_newest_{TRACK_NAME}.txt', 'w') as f:\n",
    "    f.write(json_text)"
   ],
   "outputs": [],
   "execution_count": 115
  }
 ],
 "metadata": {
  "kernelspec": {
   "display_name": "Python 3",
   "language": "python",
   "name": "python3"
  },
  "language_info": {
   "codemirror_mode": {
    "name": "ipython",
    "version": 3
   },
   "file_extension": ".py",
   "mimetype": "text/x-python",
   "name": "python",
   "nbconvert_exporter": "python",
   "pygments_lexer": "ipython3",
   "version": "3.7.7"
  }
 },
 "nbformat": 4,
 "nbformat_minor": 4
}
